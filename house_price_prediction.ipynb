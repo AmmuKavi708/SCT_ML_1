{
  "nbformat": 4,
  "nbformat_minor": 0,
  "metadata": {
    "colab": {
      "provenance": [],
      "authorship_tag": "ABX9TyP6SEoiuoNyxdOi1ytUZvFo",
      "include_colab_link": true
    },
    "kernelspec": {
      "name": "python3",
      "display_name": "Python 3"
    },
    "language_info": {
      "name": "python"
    }
  },
  "cells": [
    {
      "cell_type": "markdown",
      "metadata": {
        "id": "view-in-github",
        "colab_type": "text"
      },
      "source": [
        "<a href=\"https://colab.research.google.com/github/AmmuKavi708/SCT_ML_1/blob/main/house_price_prediction.ipynb\" target=\"_parent\"><img src=\"https://colab.research.google.com/assets/colab-badge.svg\" alt=\"Open In Colab\"/></a>"
      ]
    },
    {
      "cell_type": "code",
      "execution_count": 7,
      "metadata": {
        "colab": {
          "base_uri": "https://localhost:8080/"
        },
        "id": "y7XwiceuKKSk",
        "outputId": "9ef7779c-ea1a-4e44-da17-52227b4545ea"
      },
      "outputs": [
        {
          "output_type": "stream",
          "name": "stdout",
          "text": [
            "Mean Squared Error: 64148882088.93925\n",
            "R-squared Score: 0.46386621769354974\n",
            "\n",
            "Model Coefficients:\n",
            "Sqft_living Coefficient: 320.32\n",
            "Bedrooms Coefficient: -66861.82\n",
            "Bathrooms Coefficient: 6040.72\n",
            "Intercept: 86809.07\n"
          ]
        }
      ],
      "source": [
        "import pandas as pd\n",
        "from sklearn.linear_model import LinearRegression\n",
        "from sklearn.model_selection import train_test_split\n",
        "from sklearn.metrics import mean_squared_error, r2_score\n",
        "\n",
        "df = pd.read_csv(\"House Prices.csv\")\n",
        "\n",
        "X = df[['Sqft_living', 'Bedrooms', 'Bathrooms']]\n",
        "y = df['Price']\n",
        "\n",
        "X = X.dropna()\n",
        "y = y.loc[X.index]\n",
        "\n",
        "X_train, X_test, y_train, y_test = train_test_split(X, y, test_size=0.2, random_state=42)\n",
        "\n",
        "model = LinearRegression()\n",
        "model.fit(X_train, y_train)\n",
        "\n",
        "y_pred = model.predict(X_test)\n",
        "\n",
        "print(\"Mean Squared Error:\", mean_squared_error(y_test, y_pred))\n",
        "print(\"R-squared Score:\", r2_score(y_test, y_pred))\n",
        "\n",
        "print(\"\\nModel Coefficients:\")\n",
        "print(f\"Sqft_living Coefficient: {model.coef_[0]:.2f}\")\n",
        "print(f\"Bedrooms Coefficient: {model.coef_[1]:.2f}\")\n",
        "print(f\"Bathrooms Coefficient: {model.coef_[2]:.2f}\")\n",
        "print(f\"Intercept: {model.intercept_:.2f}\")\n"
      ]
    }
  ]
}